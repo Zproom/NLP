{
 "cells": [
  {
   "cell_type": "markdown",
   "id": "f208102c-5a85-4ddc-b91b-68b9458b5381",
   "metadata": {},
   "source": [
    "Zachary Proom\n",
    "\n",
    "EN.605.646.81: Natural Language Processing\n",
    "\n",
    "# Lab #4"
   ]
  },
  {
   "cell_type": "code",
   "execution_count": 5,
   "id": "eb8e40ef-2b13-41fc-97ec-2eb7fb398425",
   "metadata": {},
   "outputs": [],
   "source": [
    "## a"
   ]
  },
  {
   "cell_type": "code",
   "execution_count": 6,
   "id": "c3c45c8a-fef1-483f-99b4-cb726782b4fe",
   "metadata": {},
   "outputs": [],
   "source": [
    "import re\n",
    "\n",
    "# Define the tokenizer function.\n",
    "def tokenize_text(input):\n",
    "    \"\"\"        \n",
    "    Parameters\n",
    "    ----------\n",
    "    input : str\n",
    "        The input text that gets tokenized.\n",
    "    \n",
    "    Returns\n",
    "    -------\n",
    "    An ordered list of normalized tokens.\n",
    "    \"\"\"\n",
    "    \n",
    "    # Add whitespace around punctuation. Exclude periods and hyphens for now\n",
    "    # because they require extra care.\n",
    "    input_nopunct = re.sub(\"(\\.\\.\\.)\", r\" \\1 \", input) # Ellipsis\n",
    "    input_nopunct = re.sub(\"([^\\w\\d\\.-])\", r\" \\1 \", input_nopunct)\n",
    "\n",
    "    # Add whitespace around a period only when it's at the end of a sentence.\n",
    "    # To detect this, check if the following conditions are true:\n",
    "    #     (1) There is whitespace after the period.\n",
    "    #     (2) The period is at the end of a line.\n",
    "    #     (3) There is a lowercase letter before the period, and an uppercase\n",
    "    #         letter after the period.\n",
    "    # In cases (1) and (2), the period cannot be preceded by a period because\n",
    "    # it would be part of an ellipsis.\n",
    "    input_nopunct = re.sub(\"(?<![\\.])(\\.)\\s\", r\" \\1 \", input_nopunct)\n",
    "    input_nopunct = re.sub(\"(?<![\\.])(\\.)$\", r\" \\1 \", input_nopunct)\n",
    "    input_nopunct = re.sub(\"([a-z])(\\.)([A-Z])\", r\"\\1 \\2 \\3\", input_nopunct)\n",
    "\n",
    "    # Add whitespace around a hyphen except when it's used between letters \n",
    "    # (e.g. so-called).\n",
    "    input_nopunct = re.sub(r'(?<![a-zA-Z])-(?![a-zA-Z])', ' - ', input_nopunct)\n",
    "    \n",
    "    # Lower-case all the words in the input text.\n",
    "    input_lowercase = input_nopunct.lower()\n",
    "    \n",
    "    # Split all the words by whitespace.\n",
    "    input_wssplit = input_lowercase.split()\n",
    "    \n",
    "    return input_wssplit"
   ]
  },
  {
   "cell_type": "code",
   "execution_count": 7,
   "id": "eefdf3e9-a1f4-4b64-afdc-90985ed5b3e3",
   "metadata": {},
   "outputs": [
    {
     "name": "stdout",
     "output_type": "stream",
     "text": [
      "ERROR! Session/line number was not unique in database. History logging moved to new session 6\n"
     ]
    },
    {
     "data": {
      "text/plain": [
       "['nac',\n",
       " 'has',\n",
       " 'developed',\n",
       " 'a',\n",
       " 'national',\n",
       " 'hiv',\n",
       " '/',\n",
       " 'aids',\n",
       " '/',\n",
       " 'sti',\n",
       " '/',\n",
       " 'tb',\n",
       " 'intervention',\n",
       " 'strategic',\n",
       " 'plan',\n",
       " '(',\n",
       " '2002',\n",
       " '-',\n",
       " '2005',\n",
       " ')',\n",
       " 'that',\n",
       " 'aims',\n",
       " 'to',\n",
       " 'reduce',\n",
       " 'the',\n",
       " 'hiv',\n",
       " 'prevalence',\n",
       " 'rate',\n",
       " 'among',\n",
       " 'zambians',\n",
       " 'from',\n",
       " '19.3',\n",
       " '%',\n",
       " 'to',\n",
       " '11.7',\n",
       " '%',\n",
       " 'and',\n",
       " 'improve',\n",
       " 'the',\n",
       " 'health',\n",
       " 'status',\n",
       " 'of',\n",
       " 'people',\n",
       " 'living',\n",
       " 'with',\n",
       " 'hiv',\n",
       " '/',\n",
       " 'aids',\n",
       " 'by',\n",
       " '2005',\n",
       " '.']"
      ]
     },
     "execution_count": 7,
     "metadata": {},
     "output_type": "execute_result"
    }
   ],
   "source": [
    "# Test the tokenizer function on the example sentence in the prompt.\n",
    "tokenize_text(\"NAC has developed a National HIV/AIDS/STI/TB Intervention Strategic Plan (2002-2005) that aims to reduce the HIV prevalence rate among Zambians from 19.3% to 11.7% and improve the health status of people living with HIV/AIDS by 2005.\")"
   ]
  },
  {
   "cell_type": "markdown",
   "id": "53fe1dec-df3c-402f-840c-5d0687db925f",
   "metadata": {},
   "source": [
    "I define a function above called tokenize_text(). It uses the re module to pad punctuation characters with spaces, so the string can be split on spaces. Before being split, the string is also converted to lowercase. The function adds whitespace around all punctuation, and it handles periods and hyphens with extra care. In particular, the function tries to only add whitespace around periods when it's at the end of a sentence. It also only tries to add whitespace around hyphens when they aren't between letters."
   ]
  },
  {
   "cell_type": "markdown",
   "id": "588f6714-6c37-4846-a35c-a6bf46aca794",
   "metadata": {},
   "source": [
    "As you can see above, the function works on the test sentence. In my first attempt, I did not think about splitting around ellipses. I noticed my function didn't split ellipses on the first ten lines in tokens.txt, and I added more code to my function to handle them. I also didn't think about typos where there's no space between the last letter of a sentence and the first letter of the proceeding sentence (e.g. \"ham.I do\"). I had to add condition (3) in my function to deal with this correctly. My function still has trouble handling some less common initialisms like \"U.S. of A\". I'm unsure whether my tokenizer function should split contractions like \"they're\". Currently, it splits on the apostrophe."
   ]
  },
  {
   "cell_type": "markdown",
   "id": "0e1158a4-82e2-48e4-ba68-dda129465ead",
   "metadata": {},
   "source": [
    "Below I show the result of processing the first ten lines of tokens.txt."
   ]
  },
  {
   "cell_type": "code",
   "execution_count": 8,
   "id": "e5b684a9-67cf-4661-96e7-8adf4df8d645",
   "metadata": {},
   "outputs": [
    {
     "name": "stdout",
     "output_type": "stream",
     "text": [
      "['russian', 'for', 'plastic', 'bag', 'is', 'полиэтиленовый', 'пакет', '.', '7.3', 'out', 'of', '10', 'statistics', 'is', 'made', 'up', '.', 'i', 'do', 'not', 'like', 'green', 'eggs', 'and', 'ham', '.', 'i', 'do']\n",
      "['not', 'like', 'them', 'sam-i-am', '.', 'dr', '.', 'mulholland', 'lives', 'on', 'mulholland', 'dr', '.', 'in', 'hollywood', '.', '1', ',', '2', ',', '3', '...', 'slashdot.com', 'has', 'some', 'interesting']\n",
      "['articles', '.', 'i', \"'\", 'm', 'going', 'to', 'update', 'my', 'resumé', '.', 'j.h.u', '.', 'has', 'a', 'great', 'la-crosse', 'team', '.', 'born', 'in', 'the', 'u.s', '.', 'of', 'a', '.', 'incorrect', 'plurala', 'can', 'be']\n",
      "['fun', '.', 'is', 'capitalization', '(', 'sp', '?', ')', 'truly', 'necessary', '?', 'i', 'think', 'lower', 'case', 'is', 'more', 'legible', '.', 'when', 'people', 'write', 'in', 'all', 'caps', ',', 'it', 'feels']\n",
      "['like', 'they', \"'\", 're', 'yelling', '!', 'it', 'is', 'precisely', 'to', 'these', 'substances', 'that', 'the', 'so-called', 'french', 'paradox', 'is', 'ascribed', ':', 'although', 'the', 'french']\n",
      "['certainly', 'aren', '’', 't', 'stingy', 'with', 'food', 'and', 'don', '’', 't', 'exercise', 'much', ',', 'they', 'suffer', 'from', 'far', 'fewer', 'heart', 'attacks', 'than', 'do', 'people', 'in', 'other']\n",
      "['countries', '.', '“', 'we', '’', 've', 'made', 'some', 'real', 'serious', 'changes', 'in', 'the', 'last', 'couple', 'of', 'years', ',', 'and', 'we', '’', 've', 'made', 'a', 'lot', 'of', 'cuts', 'in', 'some', 'areas', '.']\n",
      "['the', 'feds', 'also', 'charged', 'diiorio', 'with', 'using', 'the', 'fake', 'badge', 'at', 'a', 'hotel', 'in', 'june', '.', 'this', 'is', 'the', 'first', 'song', 'i', '’', 've', 'ever', 'written', 'with']\n",
      "['lyrics', ',', 'and', 'it', '’', 's', 'an', 'anthem', 'for', 'myself', 'or', 'a', 'reminder', 'to', 'look', 'inward', '.', '\"', 'asia', 'will', 'continue', 'to', 'lead', 'global', 'ipo', 'activity', 'as', 'domestic']\n",
      "['and', 'foreign', 'ipo', 'pipeline', 'builds', '.', 'xhavit', 'haliti', ',', 'a', 'co-chairman', 'of', 'this', 'first', 'meeting', 'between', 'the', 'parliaments', ',', 'noted', 'that', 'the']\n"
     ]
    }
   ],
   "source": [
    "with open(\"tokens.txt\") as file:\n",
    "    for i in range(10):\n",
    "        line = next(file).strip()\n",
    "        print(tokenize_text(line))"
   ]
  }
 ],
 "metadata": {
  "kernelspec": {
   "display_name": "Python 3 (ipykernel)",
   "language": "python",
   "name": "python3"
  },
  "language_info": {
   "codemirror_mode": {
    "name": "ipython",
    "version": 3
   },
   "file_extension": ".py",
   "mimetype": "text/x-python",
   "name": "python",
   "nbconvert_exporter": "python",
   "pygments_lexer": "ipython3",
   "version": "3.8.10"
  }
 },
 "nbformat": 4,
 "nbformat_minor": 5
}
