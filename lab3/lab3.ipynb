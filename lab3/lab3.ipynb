{
 "cells": [
  {
   "cell_type": "markdown",
   "id": "628739d4-eda3-4434-9b6a-ffae99535986",
   "metadata": {},
   "source": [
    "Zachary Proom\n",
    "\n",
    "EN.605.646.81: Natural Language Processing\n",
    "\n",
    "# Lab #3"
   ]
  },
  {
   "cell_type": "markdown",
   "id": "405a2c93-5845-4cd9-a426-c21ea608166a",
   "metadata": {},
   "source": [
    "## a"
   ]
  },
  {
   "cell_type": "markdown",
   "id": "f2e095e2-fdb3-40ae-bbff-fb0b1336c0db",
   "metadata": {},
   "source": [
    "First, I split the training data in train.tsv into two groups, based on the class."
   ]
  },
  {
   "cell_type": "code",
   "execution_count": 1,
   "id": "addb988d-6528-4b94-8413-a98618c24c20",
   "metadata": {},
   "outputs": [],
   "source": [
    "import pandas as pd"
   ]
  },
  {
   "cell_type": "code",
   "execution_count": 11,
   "id": "fc6e229b-3fc7-4b71-863f-d11cff845dde",
   "metadata": {},
   "outputs": [],
   "source": [
    "# Load in train.tsv.\n",
    "training_data = pd.read_csv('train.tsv', sep = '\\t', header = None) \n",
    "\n",
    "# Add column names.\n",
    "training_data.columns = [\"stars\", \"docid\", \"text\"]\n",
    "\n",
    "# Split into two groups based on class.\n",
    "training_data_negative = training_data.loc[training_data[\"stars\"] == 2]\n",
    "training_data_positive = training_data.loc[training_data[\"stars\"] == 4]"
   ]
  },
  {
   "cell_type": "markdown",
   "id": "800c3fd2-566a-4440-9d72-c8f6a674355d",
   "metadata": {},
   "source": [
    "I found ten words that indicate positive or negative sentiment, and I show their relative frequencies in the table below (i.e. the percent of reviews they appear in in each class). The first five words indicate positive sentiment, and the last five indicate negative sentiment."
   ]
  },
  {
   "cell_type": "code",
   "execution_count": 34,
   "id": "1c0e4cae-c0b8-4796-9f01-ce44695efa9c",
   "metadata": {},
   "outputs": [
    {
     "data": {
      "text/html": [
       "<div>\n",
       "<style scoped>\n",
       "    .dataframe tbody tr th:only-of-type {\n",
       "        vertical-align: middle;\n",
       "    }\n",
       "\n",
       "    .dataframe tbody tr th {\n",
       "        vertical-align: top;\n",
       "    }\n",
       "\n",
       "    .dataframe thead th {\n",
       "        text-align: right;\n",
       "    }\n",
       "</style>\n",
       "<table border=\"1\" class=\"dataframe\">\n",
       "  <thead>\n",
       "    <tr style=\"text-align: right;\">\n",
       "      <th></th>\n",
       "      <th>word</th>\n",
       "      <th>positive</th>\n",
       "      <th>negative</th>\n",
       "    </tr>\n",
       "  </thead>\n",
       "  <tbody>\n",
       "    <tr>\n",
       "      <th>0</th>\n",
       "      <td>amazing</td>\n",
       "      <td>5.2</td>\n",
       "      <td>1.8</td>\n",
       "    </tr>\n",
       "    <tr>\n",
       "      <th>1</th>\n",
       "      <td>awesome</td>\n",
       "      <td>5.7</td>\n",
       "      <td>2.2</td>\n",
       "    </tr>\n",
       "    <tr>\n",
       "      <th>2</th>\n",
       "      <td>great</td>\n",
       "      <td>35.9</td>\n",
       "      <td>17.3</td>\n",
       "    </tr>\n",
       "    <tr>\n",
       "      <th>3</th>\n",
       "      <td>incredible</td>\n",
       "      <td>0.4</td>\n",
       "      <td>0.1</td>\n",
       "    </tr>\n",
       "    <tr>\n",
       "      <th>4</th>\n",
       "      <td>fantastic</td>\n",
       "      <td>3.7</td>\n",
       "      <td>1.0</td>\n",
       "    </tr>\n",
       "    <tr>\n",
       "      <th>5</th>\n",
       "      <td>terrible</td>\n",
       "      <td>0.3</td>\n",
       "      <td>3.2</td>\n",
       "    </tr>\n",
       "    <tr>\n",
       "      <th>6</th>\n",
       "      <td>horrible</td>\n",
       "      <td>0.6</td>\n",
       "      <td>3.1</td>\n",
       "    </tr>\n",
       "    <tr>\n",
       "      <th>7</th>\n",
       "      <td>worst</td>\n",
       "      <td>0.7</td>\n",
       "      <td>4.7</td>\n",
       "    </tr>\n",
       "    <tr>\n",
       "      <th>8</th>\n",
       "      <td>awful</td>\n",
       "      <td>0.6</td>\n",
       "      <td>2.5</td>\n",
       "    </tr>\n",
       "    <tr>\n",
       "      <th>9</th>\n",
       "      <td>bad</td>\n",
       "      <td>7.1</td>\n",
       "      <td>16.7</td>\n",
       "    </tr>\n",
       "  </tbody>\n",
       "</table>\n",
       "</div>"
      ],
      "text/plain": [
       "         word  positive  negative\n",
       "0     amazing       5.2       1.8\n",
       "1     awesome       5.7       2.2\n",
       "2       great      35.9      17.3\n",
       "3  incredible       0.4       0.1\n",
       "4   fantastic       3.7       1.0\n",
       "5    terrible       0.3       3.2\n",
       "6    horrible       0.6       3.1\n",
       "7       worst       0.7       4.7\n",
       "8       awful       0.6       2.5\n",
       "9         bad       7.1      16.7"
      ]
     },
     "execution_count": 34,
     "metadata": {},
     "output_type": "execute_result"
    }
   ],
   "source": [
    "relative_freqs = pd.DataFrame(columns = ['word', 'positive', 'negative'])\n",
    "\n",
    "for word in [\"amazing\", \"awesome\", \"great\", \"incredible\", \"fantastic\", \"terrible\", \"horrible\", \"worst\", \"awful\", \"bad\"]:\n",
    "    negative_freq = sum(training_data_negative['text'].str.contains(word))/len(training_data_negative) * 100\n",
    "    positive_freq = sum(training_data_positive['text'].str.contains(word))/len(training_data_positive) * 100\n",
    "    relative_freqs = pd.concat([relative_freqs, pd.DataFrame({\"word\": [word], \"positive\": [positive_freq], \"negative\": [negative_freq]})], ignore_index = True)\n",
    "\n",
    "relative_freqs = relative_freqs.reset_index(drop=True)\n",
    "relative_freqs"
   ]
  },
  {
   "cell_type": "markdown",
   "id": "3f2fc7c7-6e19-49b2-aa50-f8c518803823",
   "metadata": {},
   "source": [
    "After reading a few of the reviews, I noticed that there's a lot of mixed language. Take this review as an example: \n",
    "\n",
    "2\tYT9tezwopYagEjTxIzN2dg\ti am just not a fan of this kind of pizza. i hate the sweet sauce, i hate that the ingredients are under the cheese so they don't get crunchy and crispy, the pepperoni is floppy. just not for me. the crust was kinda gooey like.   my delivery was 30 minutes late but its ok bc i wasn't in a hurry. they were really nice i just can't stand this kind of pizza.    if you like the sweet sauce and toppings under the cheese then go for it bc you'll probably love it!\n",
    "\n",
    "The review is part of the negative class, but it contains several positive words such as \"love\", \"nice\", and \"like\". This is true for a lot of the reviews I read. A lot of the reviews are balanced and not polarized. This makes classifying sentiment more difficult."
   ]
  },
  {
   "cell_type": "markdown",
   "id": "01bfd4c3-aad7-447f-85d9-9aa34fd93969",
   "metadata": {},
   "source": [
    "## b"
   ]
  }
 ],
 "metadata": {
  "kernelspec": {
   "display_name": "nlp",
   "language": "python",
   "name": "nlp"
  },
  "language_info": {
   "codemirror_mode": {
    "name": "ipython",
    "version": 3
   },
   "file_extension": ".py",
   "mimetype": "text/x-python",
   "name": "python",
   "nbconvert_exporter": "python",
   "pygments_lexer": "ipython3",
   "version": "3.10.12"
  }
 },
 "nbformat": 4,
 "nbformat_minor": 5
}
