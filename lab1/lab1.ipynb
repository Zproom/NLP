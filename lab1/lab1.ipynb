{
 "cells": [
  {
   "cell_type": "markdown",
   "id": "f208102c-5a85-4ddc-b91b-68b9458b5381",
   "metadata": {},
   "source": [
    "Zachary Proom\n",
    "\n",
    "EN.605.646.81: Natural Language Processing\n",
    "\n",
    "# Lab #4"
   ]
  },
  {
   "cell_type": "markdown",
   "id": "8bc63578-084b-410a-afd1-c9691340e256",
   "metadata": {},
   "source": [
    "## a"
   ]
  },
  {
   "cell_type": "code",
   "execution_count": 3,
   "id": "c3c45c8a-fef1-483f-99b4-cb726782b4fe",
   "metadata": {},
   "outputs": [],
   "source": [
    "import re\n",
    "\n",
    "# Define the tokenizer function.\n",
    "def tokenize_text(input):\n",
    "    \"\"\"        \n",
    "    Parameters\n",
    "    ----------\n",
    "    input : str\n",
    "        The input text that gets tokenized.\n",
    "    \n",
    "    Returns\n",
    "    -------\n",
    "    An ordered list of normalized tokens.\n",
    "    \"\"\"\n",
    "    \n",
    "    # Add whitespace around punctuation. Exclude periods and hyphens for now\n",
    "    # because they require extra care.\n",
    "    input_nopunct = re.sub(\"(\\.\\.\\.)\", r\" \\1 \", input) # Ellipsis\n",
    "    input_nopunct = re.sub(\"([^\\w\\d\\.-])\", r\" \\1 \", input_nopunct)\n",
    "\n",
    "    # Add whitespace around a period only when it's at the end of a sentence.\n",
    "    # To detect this, check if the following conditions are true:\n",
    "    #     (1) There is whitespace after the period.\n",
    "    #     (2) The period is at the end of a line.\n",
    "    #     (3) There is a lowercase letter before the period, and an uppercase\n",
    "    #         letter after the period.\n",
    "    # In cases (1) and (2), the period cannot be preceded by a period because\n",
    "    # it would be part of an ellipsis.\n",
    "    input_nopunct = re.sub(\"(?<![\\.])(\\.)\\s\", r\" \\1 \", input_nopunct)\n",
    "    input_nopunct = re.sub(\"(?<![\\.])(\\.)$\", r\" \\1 \", input_nopunct)\n",
    "    input_nopunct = re.sub(\"([a-z])(\\.)([A-Z])\", r\"\\1 \\2 \\3\", input_nopunct)\n",
    "\n",
    "    # Add whitespace around a hyphen except when it's used between letters \n",
    "    # (e.g. so-called).\n",
    "    input_nopunct = re.sub(r'(?<![a-zA-Z])-(?![a-zA-Z])', ' - ', input_nopunct)\n",
    "    \n",
    "    # Lower-case all the words in the input text.\n",
    "    input_lowercase = input_nopunct.lower()\n",
    "    \n",
    "    # Split all the words by whitespace.\n",
    "    input_wssplit = input_lowercase.split()\n",
    "    \n",
    "    return input_wssplit"
   ]
  },
  {
   "cell_type": "code",
   "execution_count": 4,
   "id": "eefdf3e9-a1f4-4b64-afdc-90985ed5b3e3",
   "metadata": {},
   "outputs": [
    {
     "data": {
      "text/plain": [
       "['nac',\n",
       " 'has',\n",
       " 'developed',\n",
       " 'a',\n",
       " 'national',\n",
       " 'hiv',\n",
       " '/',\n",
       " 'aids',\n",
       " '/',\n",
       " 'sti',\n",
       " '/',\n",
       " 'tb',\n",
       " 'intervention',\n",
       " 'strategic',\n",
       " 'plan',\n",
       " '(',\n",
       " '2002',\n",
       " '-',\n",
       " '2005',\n",
       " ')',\n",
       " 'that',\n",
       " 'aims',\n",
       " 'to',\n",
       " 'reduce',\n",
       " 'the',\n",
       " 'hiv',\n",
       " 'prevalence',\n",
       " 'rate',\n",
       " 'among',\n",
       " 'zambians',\n",
       " 'from',\n",
       " '19.3',\n",
       " '%',\n",
       " 'to',\n",
       " '11.7',\n",
       " '%',\n",
       " 'and',\n",
       " 'improve',\n",
       " 'the',\n",
       " 'health',\n",
       " 'status',\n",
       " 'of',\n",
       " 'people',\n",
       " 'living',\n",
       " 'with',\n",
       " 'hiv',\n",
       " '/',\n",
       " 'aids',\n",
       " 'by',\n",
       " '2005',\n",
       " '.']"
      ]
     },
     "execution_count": 4,
     "metadata": {},
     "output_type": "execute_result"
    }
   ],
   "source": [
    "# Test the tokenizer function on the example sentence in the prompt.\n",
    "tokenize_text(\"NAC has developed a National HIV/AIDS/STI/TB Intervention Strategic Plan (2002-2005) that aims to reduce the HIV prevalence rate among Zambians from 19.3% to 11.7% and improve the health status of people living with HIV/AIDS by 2005.\")"
   ]
  },
  {
   "cell_type": "markdown",
   "id": "53fe1dec-df3c-402f-840c-5d0687db925f",
   "metadata": {},
   "source": [
    "I define a function above called tokenize_text(). It uses the re module to pad punctuation characters with spaces, so the string can be split on spaces. Before being split, the string is also converted to lowercase. The function adds whitespace around all punctuation, and it handles periods and hyphens with extra care. In particular, the function tries to only add whitespace around periods when it's at the end of a sentence. It also only tries to add whitespace around hyphens when they aren't between letters."
   ]
  },
  {
   "cell_type": "markdown",
   "id": "588f6714-6c37-4846-a35c-a6bf46aca794",
   "metadata": {},
   "source": [
    "As you can see above, the function works on the test sentence. In my first attempt, I did not think about splitting around ellipses. I noticed my function didn't split ellipses on the first ten lines in tokens.txt, and I added more code to my function to handle them. I also didn't think about typos where there's no space between the last letter of a sentence and the first letter of the proceeding sentence (e.g. \"ham.I do\"). I had to add condition (3) in my function to deal with this correctly. My function still has trouble handling some less common initialisms like \"U.S. of A\". I'm unsure whether my tokenizer function should split contractions like \"they're\". Currently, it splits on the apostrophe."
   ]
  },
  {
   "cell_type": "markdown",
   "id": "0e1158a4-82e2-48e4-ba68-dda129465ead",
   "metadata": {},
   "source": [
    "Below I show the result of processing the first ten lines of tokens.txt."
   ]
  },
  {
   "cell_type": "code",
   "execution_count": 5,
   "id": "e5b684a9-67cf-4661-96e7-8adf4df8d645",
   "metadata": {},
   "outputs": [
    {
     "name": "stdout",
     "output_type": "stream",
     "text": [
      "['russian', 'for', 'plastic', 'bag', 'is', 'полиэтиленовый', 'пакет', '.', '7.3', 'out', 'of', '10', 'statistics', 'is', 'made', 'up', '.', 'i', 'do', 'not', 'like', 'green', 'eggs', 'and', 'ham', '.', 'i', 'do']\n",
      "['not', 'like', 'them', 'sam-i-am', '.', 'dr', '.', 'mulholland', 'lives', 'on', 'mulholland', 'dr', '.', 'in', 'hollywood', '.', '1', ',', '2', ',', '3', '...', 'slashdot.com', 'has', 'some', 'interesting']\n",
      "['articles', '.', 'i', \"'\", 'm', 'going', 'to', 'update', 'my', 'resumé', '.', 'j.h.u', '.', 'has', 'a', 'great', 'la-crosse', 'team', '.', 'born', 'in', 'the', 'u.s', '.', 'of', 'a', '.', 'incorrect', 'plurala', 'can', 'be']\n",
      "['fun', '.', 'is', 'capitalization', '(', 'sp', '?', ')', 'truly', 'necessary', '?', 'i', 'think', 'lower', 'case', 'is', 'more', 'legible', '.', 'when', 'people', 'write', 'in', 'all', 'caps', ',', 'it', 'feels']\n",
      "['like', 'they', \"'\", 're', 'yelling', '!', 'it', 'is', 'precisely', 'to', 'these', 'substances', 'that', 'the', 'so-called', 'french', 'paradox', 'is', 'ascribed', ':', 'although', 'the', 'french']\n",
      "['certainly', 'aren', '’', 't', 'stingy', 'with', 'food', 'and', 'don', '’', 't', 'exercise', 'much', ',', 'they', 'suffer', 'from', 'far', 'fewer', 'heart', 'attacks', 'than', 'do', 'people', 'in', 'other']\n",
      "['countries', '.', '“', 'we', '’', 've', 'made', 'some', 'real', 'serious', 'changes', 'in', 'the', 'last', 'couple', 'of', 'years', ',', 'and', 'we', '’', 've', 'made', 'a', 'lot', 'of', 'cuts', 'in', 'some', 'areas', '.']\n",
      "['the', 'feds', 'also', 'charged', 'diiorio', 'with', 'using', 'the', 'fake', 'badge', 'at', 'a', 'hotel', 'in', 'june', '.', 'this', 'is', 'the', 'first', 'song', 'i', '’', 've', 'ever', 'written', 'with']\n",
      "['lyrics', ',', 'and', 'it', '’', 's', 'an', 'anthem', 'for', 'myself', 'or', 'a', 'reminder', 'to', 'look', 'inward', '.', '\"', 'asia', 'will', 'continue', 'to', 'lead', 'global', 'ipo', 'activity', 'as', 'domestic']\n",
      "['and', 'foreign', 'ipo', 'pipeline', 'builds', '.', 'xhavit', 'haliti', ',', 'a', 'co-chairman', 'of', 'this', 'first', 'meeting', 'between', 'the', 'parliaments', ',', 'noted', 'that', 'the']\n"
     ]
    }
   ],
   "source": [
    "with open(\"tokens.txt\") as file:\n",
    "    for i in range(10):\n",
    "        line = next(file).strip()\n",
    "        print(tokenize_text(line))"
   ]
  },
  {
   "cell_type": "markdown",
   "id": "1fe7a778-edc3-4aa1-adcf-7401e549fa61",
   "metadata": {},
   "source": [
    "## b"
   ]
  },
  {
   "cell_type": "code",
   "execution_count": 6,
   "id": "b84fb564-c985-4ba7-81ac-8fcdafa76ed4",
   "metadata": {},
   "outputs": [],
   "source": [
    "summary_info = {\n",
    "    \"n_lines\": 0,\n",
    "    \"unique_tokens\": set(),\n",
    "    \"vocab_size\": 0,\n",
    "    \"collection_size\": 0,\n",
    "    \"unique_token_counts\": dict()\n",
    "}\n",
    "\n",
    "# Process all the lines in the text file.\n",
    "with open(\"tokens.txt\") as file:\n",
    "    for line in file:\n",
    "        summary_info[\"n_lines\"] += 1\n",
    "        result = tokenize_text(line)\n",
    "        [summary_info[\"unique_tokens\"].add(i) for i in result]\n",
    "        summary_info[\"collection_size\"] = summary_info[\"collection_size\"] + len(result)\n",
    "        for token in result:\n",
    "            if token in summary_info[\"unique_token_counts\"]:\n",
    "                summary_info[\"unique_token_counts\"][token] = summary_info[\"unique_token_counts\"].get(token, 0) + 1 \n",
    "            if token not in summary_info[\"unique_token_counts\"]:\n",
    "                summary_info[\"unique_token_counts\"][token] = 1\n",
    "    \n",
    "summary_info[\"vocab_size\"] = len(summary_info[\"unique_tokens\"])"
   ]
  },
  {
   "cell_type": "code",
   "execution_count": 7,
   "id": "15d8f653-f622-4ccc-9e72-7f1a1d37504a",
   "metadata": {},
   "outputs": [
    {
     "name": "stdout",
     "output_type": "stream",
     "text": [
      "944802\n",
      "344521\n",
      "23432250\n"
     ]
    }
   ],
   "source": [
    "# Report number of lines processed.\n",
    "print(summary_info[\"n_lines\"])\n",
    "\n",
    "# Report number of unique tokens.\n",
    "print(summary_info[\"vocab_size\"])\n",
    "\n",
    "# Report collection size\n",
    "print(summary_info[\"collection_size\"])"
   ]
  },
  {
   "cell_type": "code",
   "execution_count": 8,
   "id": "5dcdb35a-be30-4a04-a3b5-89e93af50902",
   "metadata": {},
   "outputs": [],
   "source": [
    "# Sort the counts.\n",
    "summary_info[\"unique_token_counts\"] = dict(sorted(summary_info[\"unique_token_counts\"].items(), key=lambda item: item[1], reverse = True))\n",
    "\n",
    "# Find the most frequent types.\n",
    "ranks_1_100 = {k: summary_info[\"unique_token_counts\"][k] for k in list(summary_info[\"unique_token_counts\"])[:100]}\n",
    "rank_500_key = list(summary_info[\"unique_token_counts\"].keys())[500]\n",
    "rank_1000_key = list(summary_info[\"unique_token_counts\"].keys())[1000]\n",
    "rank_5000_key = list(summary_info[\"unique_token_counts\"].keys())[5000]\n",
    "rank_10000_key = list(summary_info[\"unique_token_counts\"].keys())[10000]\n",
    "\n",
    "rank_500_val = summary_info[\"unique_token_counts\"][rank_500_key]\n",
    "rank_1000_val = summary_info[\"unique_token_counts\"][rank_1000_key]\n",
    "rank_5000_val = summary_info[\"unique_token_counts\"][rank_5000_key]\n",
    "rank_10000_val = summary_info[\"unique_token_counts\"][rank_10000_key]\n",
    "\n",
    "rank_500 = dict()\n",
    "rank_1000 = dict()\n",
    "rank_5000 = dict()\n",
    "rank_10000 = dict()\n",
    "\n",
    "rank_500[rank_500_key] = rank_500_val\n",
    "rank_1000[rank_1000_key] = rank_1000_val\n",
    "rank_5000[rank_5000_key] = rank_5000_val\n",
    "rank_10000[rank_10000_key] = rank_10000_val"
   ]
  },
  {
   "cell_type": "code",
   "execution_count": 9,
   "id": "50159150-1aea-4d56-b04c-7f27fc571366",
   "metadata": {},
   "outputs": [
    {
     "name": "stdout",
     "output_type": "stream",
     "text": [
      "{'the': 1154788, '.': 1049089, ',': 1027875, 'to': 564440, 'and': 534802, 'of': 487282, 'a': 455057, 'in': 390653, 'for': 214839, 'that': 203046, 'is': 202438, 's': 187993, '’': 187233, 'on': 164662, 'it': 156335, 'with': 149567, \"'\": 141226, 'was': 130719, 'at': 127865, '\"': 126344, 'i': 117749, 'as': 113449, 'be': 107919, '“': 106826, 'he': 104806, '”': 102222, 'are': 101822, 'said': 94457, 'this': 92847, ':': 92800, 'we': 91866, 'have': 91076, 'from': 89899, 'by': 88317, 'will': 80899, 'you': 80481, 'they': 76653, 'has': 73793, 'but': 71078, 'not': 69961, 'an': 68283, 'his': 67887, 'their': 60158, 'or': 56686, '-': 54567, 't': 52885, 'who': 52176, 'more': 49498, 'one': 48891, 'all': 48833, ')': 46853, 'she': 46822, '(': 46809, 'about': 45767, 'there': 45686, 'can': 44820, 'were': 44501, 'had': 43002, 'been': 42080, 'our': 40601, 'up': 40236, 'her': 39896, 'when': 39866, 'also': 39448, 'out': 39265, 'people': 38390, 'would': 37923, 'new': 36832, 'if': 36764, 'what': 36477, 'which': 35518, 'so': 34715, 'time': 32046, '?': 31084, 'your': 31075, 'after': 30878, 'year': 30782, 'its': 30088, 'my': 29888, 'two': 29816, 'first': 29025, 'some': 29014, 'just': 28807, 'do': 28200, 'no': 28139, 'other': 28093, 'years': 27854, 'than': 27766, 'like': 27678, '$': 27489, 'them': 27169, 'over': 26746, 'into': 26586, 'get': 23562, 'now': 22415, 'only': 22166, 'last': 22095, 'school': 22031, 'state': 21999, 'many': 21503}\n",
      "{'security': 4620}\n",
      "{'reading': 2451}\n",
      "{'deserves': 367}\n",
      "{'paired': 133}\n"
     ]
    }
   ],
   "source": [
    "# Report the most frequent types.\n",
    "print(ranks_1_100)\n",
    "print(rank_500)\n",
    "print(rank_1000)\n",
    "print(rank_5000)\n",
    "print(rank_10000)"
   ]
  },
  {
   "cell_type": "code",
   "execution_count": 10,
   "id": "84dc6fed-49ec-46d3-a5e4-958156fc0e35",
   "metadata": {},
   "outputs": [
    {
     "name": "stdout",
     "output_type": "stream",
     "text": [
      "198077\n"
     ]
    }
   ],
   "source": [
    "# Find the number of singletons.\n",
    "n_singletons = 0\n",
    "for val in summary_info[\"unique_token_counts\"].values():\n",
    "    if val == 1:\n",
    "        n_singletons += 1\n",
    "\n",
    "# Report the number of tokens that occur once (singletons).\n",
    "print(n_singletons)"
   ]
  },
  {
   "cell_type": "code",
   "execution_count": 11,
   "id": "b59bfbef-6c31-4e83-a98f-1977635a22de",
   "metadata": {},
   "outputs": [
    {
     "name": "stdout",
     "output_type": "stream",
     "text": [
      "57.49344742410477\n"
     ]
    }
   ],
   "source": [
    "# Report the the percentage of the vocabulary that singletons constitute.\n",
    "print(100*n_singletons/summary_info[\"vocab_size\"])"
   ]
  },
  {
   "cell_type": "markdown",
   "id": "d2cebec2-f21d-416d-b58e-748730c76d21",
   "metadata": {},
   "source": [
    "## c"
   ]
  },
  {
   "cell_type": "code",
   "execution_count": 12,
   "id": "c4f9ec86-bee4-46cf-b075-073a6cde2b00",
   "metadata": {},
   "outputs": [],
   "source": [
    "import pandas as pd\n",
    "import numpy as np\n",
    "import matplotlib.pyplot as plt\n",
    "\n",
    "# Convert summary_info[\"unique_token_counts\"] to a data frame.\n",
    "token_counts_df = pd.DataFrame(summary_info[\"unique_token_counts\"].items(), columns=['token', 'freq'])\n",
    "\n",
    "# Add rank and log transformation columns.\n",
    "token_counts_df[\"rank\"] = token_counts_df.index + 1\n",
    "token_counts_df[\"log_freq\"] = np.log(token_counts_df[\"freq\"])\n",
    "token_counts_df[\"log_rank\"] = np.log(token_counts_df[\"rank\"])"
   ]
  },
  {
   "cell_type": "code",
   "execution_count": 13,
   "id": "3a46b1d5-b9a6-4ee3-a888-882eb95f7899",
   "metadata": {},
   "outputs": [
    {
     "data": {
      "image/png": "[encoded data removed]",
      "text/plain": [
       "<Figure size 800x600 with 1 Axes>"
      ]
     },
     "metadata": {},
     "output_type": "display_data"
    }
   ],
   "source": [
    "# Create the plot\n",
    "plt.figure(figsize=(8, 6))\n",
    "plt.plot(token_counts_df[\"log_rank\"], token_counts_df[\"log_freq\"], marker='o', linestyle='-', color='b', label='Line 1')\n",
    "plt.title(\"Frequency vs. rank for tokens in tokens.txt\")\n",
    "plt.xlabel(\"Natural log of token rank\")\n",
    "plt.ylabel(\"Natural log of token frequency\")\n",
    "plt.grid(True)\n",
    "plt.show()"
   ]
  },
  {
   "cell_type": "markdown",
   "id": "e23e288e-35b3-46d5-9daa-0c90f8d60ef7",
   "metadata": {},
   "source": [
    "The plotted data follow Zipf's law. If Zipf's law holds, then we would expect to observe the following relationship (k is some constant):\n",
    "\n",
    "freq * rank = k\n",
    "\n",
    "log(freq * rank) = log(k)\n",
    "\n",
    "log(freq) + log(rank) = log(k)\n",
    "\n",
    "log(freq) = log(k) - log(rank)\n",
    "\n",
    "The plot appears to show this relationship, where log(k) is approximately 14, or, in other words, k is approximately e^14 (1202604.28)."
   ]
  },
  {
   "cell_type": "markdown",
   "id": "dbf48025-1efd-48c8-a7e3-627abc24a081",
   "metadata": {},
   "source": [
    "## d"
   ]
  },
  {
   "cell_type": "code",
   "execution_count": 14,
   "id": "5f7764a5-0cf6-40b3-94e6-4b4a8c78343b",
   "metadata": {},
   "outputs": [],
   "source": [
    "# Define a sentence boundary detection function.\n",
    "def detect_sentence_boundary(input):\n",
    "    \"\"\"        \n",
    "    Parameters\n",
    "    ----------\n",
    "    input : str\n",
    "        The input text that gets checked.\n",
    "    \n",
    "    Returns\n",
    "    -------\n",
    "    A string containing a few numbers (enclosed in angle brackets):\n",
    "        The first number is the number of sentences that were found.\n",
    "        The next numbers are character offsets where punctuation characters are found.\n",
    "        The last number is the offset where the final character is found.\n",
    "    \"\"\"\n",
    "\n",
    "    # Replace non-punctuation periods with whitespace so they aren't caught below.\n",
    "    # Replace . with whitespace in the following situations:\n",
    "    #     (1) The period is between two numbers.\n",
    "    #     (2) The period is part of an initialism (between two uppercase letters).\n",
    "    #     (3) The period is part of a title (e.g. Mr.). \n",
    "    input_periodrepl = re.sub(\"([0-9])(\\.)([0-9])\", r\"\\1 \\3\", input)\n",
    "    input_periodrepl = re.sub(\"([A-Z])(\\.)([A-Z])\", r\"\\1 \\3\", input_periodrepl)\n",
    "    input_periodrepl = re.sub(\"(Mr|Mrs|Ms|Dr)(\\.)\", r\"\\1 \", input_periodrepl)\n",
    "    \n",
    "    # Replace ! after Yahoo with whitespace.\n",
    "    input_exclrepl = re.sub(\"Yahoo!\", \"Yahoo \", input_periodrepl)\n",
    "    \n",
    "    # Find the offsets of all punctuation characters.\n",
    "    punc_matches = re.finditer(\"[\\.?!]\", input_exclrepl)\n",
    "    punc_offsets = [punc_matches.start() for punc_matches in punc_matches]\n",
    "    n_sentences = len(punc_offsets)\n",
    "\n",
    "    # Find offset of the last character. \n",
    "    punc_offsets.append(len(input)-1)\n",
    "\n",
    "    # Convert to a set to avoid duplication when last character is a punctuation character.\n",
    "    punc_offsets_set = set(punc_offsets)\n",
    "\n",
    "    # If the last character is not a punctuation character, increment n_sentences.\n",
    "    if input[len(input)-1] != \"!\" and input[len(input)-1] != \".\" and input[len(input)-1] != \"?\":\n",
    "        n_sentences += 1\n",
    "    punc_offsets_list = list(punc_offsets_set)\n",
    "    punc_offsets_list.sort()\n",
    "    punc_offsets_list.insert(0, n_sentences)\n",
    "\n",
    "    # Convert to string.\n",
    "    return \" \".join(str(i) for i in punc_offsets_list)"
   ]
  },
  {
   "cell_type": "code",
   "execution_count": 15,
   "id": "ab3d5bc3-3853-49cb-ad25-6f230be7e39a",
   "metadata": {},
   "outputs": [
    {
     "data": {
      "text/plain": [
       "'3 6 13 25'"
      ]
     },
     "execution_count": 15,
     "metadata": {},
     "output_type": "execute_result"
    }
   ],
   "source": [
    "detect_sentence_boundary(\"I came. I saw! I conquered\")"
   ]
  },
  {
   "cell_type": "code",
   "execution_count": 16,
   "id": "a44a7667-e2d3-4421-a664-97754e3431fe",
   "metadata": {},
   "outputs": [
    {
     "name": "stdout",
     "output_type": "stream",
     "text": [
      "Actual Sentence:\n",
      "They're hoping this week's snowstorms don't mess up their Saturday wedding. The economic powerhouse is gearing up for nearly three-quarters of a million applicants this year. Tunisia, birthplace of the Arab Spring, has seen a surge in radical Islam since veteran president Zine El Abidine Ben Ali was ousted in the 2011 revolution.\n",
      "\n",
      "Results from sentence boundary function:\n",
      "4 74 173 330 331\n",
      "\n",
      "Actual Sentence:\n",
      "However, a Russian TV channel late on Saturday quoted the wife of the co-pilot as saying her husband had complained about the plane's condition.\n",
      "\n",
      "Results from sentence boundary function:\n",
      "2 143 144\n",
      "\n",
      "Actual Sentence:\n",
      "Credit: Paul Michael Hughes/Guinness World Records Tallest married couple Sun Mingming, 33, and his wife Xu Yan, 29, of China have a combined height of 13 feet 10.72 inches. NADINE ANGERER, Germany: The goalkeeper says she’ll retire from the game later this year, but first she wants to lead her country to its third World Cup championship.\n",
      "\n",
      "Results from sentence boundary function:\n",
      "3 172 339 340\n",
      "\n",
      "Actual Sentence:\n",
      "\"There is room in the primary for anyone who has enough resources,\" said Tom Rath, a longtime New Hampshire power broker and Romney ally. Eventually, though, the court did hear testimony relevant to the case.\n",
      "\n",
      "Results from sentence boundary function:\n",
      "3 136 207 208\n",
      "\n",
      "Actual Sentence:\n",
      "They will enhance the lives of a few fortunate mothers, too.\" “I’m very fortunate in my life, and to be able to do this for this family that works so hard, it is an amazing feeling,” he added. And I want to believe it,\" she said from Seattle.\n",
      "\n",
      "Results from sentence boundary function:\n",
      "4 59 191 241 242\n",
      "\n",
      "Actual Sentence:\n",
      "In addition, with starting salaries above the national median, the teaching profession attracts, develops, and retains some of the best graduates.\n",
      "\n",
      "Results from sentence boundary function:\n",
      "2 145 146\n",
      "\n",
      "Actual Sentence:\n",
      "Soriot did not mention Wilmington at all during the news conference in Cambridge. For his encore, “The Rosie Effect,” Simsion could easily have lapsed into movie-sequel mode and dished up flavorless seconds.\n",
      "\n",
      "Results from sentence boundary function:\n",
      "3 80 206 207\n",
      "\n",
      "Actual Sentence:\n",
      "Fourth time a charm in EU Google antitrust row? 02.04.2015 Despite three failed attempts against Google, EU regulators aren't giving up. Ephron places Netanyahu at a rally, about a month before Rabin’s murder, where crowds spent two hours chanting, “Death to Rabin.”\n",
      "\n",
      "Results from sentence boundary function:\n",
      "4 46 135 264 266\n",
      "\n",
      "Actual Sentence:\n",
      "Russian Cargo Spaceship Spins Out of Control After Launch Russia's space agency is scrambling to regain control of a robotic Progress cargo ship that appears to have suffered a serious malfunction shortly after launching into orbit on Tuesday.\n",
      "\n",
      "Results from sentence boundary function:\n",
      "2 242 243\n",
      "\n",
      "Actual Sentence:\n",
      "Which we're going to assume means the average Engadget editor will get about 12 hours from it. An owl flew into a patrol car and attacked a Louisiana officer The encounter caused the officer to lose control of his vehicle (CNN)One unsuspecting Louisiana police officer was in for a hoot on Christmas Eve.\n",
      "\n",
      "Results from sentence boundary function:\n",
      "3 93 303 304\n",
      "\n"
     ]
    }
   ],
   "source": [
    "n_lines = 0\n",
    "\n",
    "# Apply the function to each line of the output file.\n",
    "with open(\"sentences.txt\") as file_input:\n",
    "    with open(\"JHEDID.txt\", \"w\") as file_output:\n",
    "        for line in file_input:\n",
    "            n_lines += 1\n",
    "            result = detect_sentence_boundary(line)\n",
    "            file_output.write(result + \"\\n\")\n",
    "\n",
    "# Pick ten random lines.\n",
    "np.random.seed(1) # Set seed for reproducibility.\n",
    "random_line_nos = np.random.randint(0, n_lines, size=10)\n",
    "i = 0\n",
    "random_lines = []\n",
    "with open(\"sentences.txt\") as file_input:\n",
    "    for line in file_input:\n",
    "        i += 1\n",
    "        if i in random_line_nos:\n",
    "            print(\"Actual Sentence:\")\n",
    "            print(line)\n",
    "            print(\"Results from sentence boundary function:\")\n",
    "            print(detect_sentence_boundary(line))\n",
    "            print(\"\")\n"
   ]
  },
  {
   "cell_type": "markdown",
   "id": "05e32f86-df3b-4240-8127-7bb147f15c6c",
   "metadata": {},
   "source": [
    "I chose ten random sample sentences in sentences.txt above. My function seems to overestimate the number of sentences each time, sometimes by a lot. Strangely, the function didn't overestimate the number of sentences when I stored a line as a string outside of the text file. \n"
   ]
  },
  {
   "cell_type": "markdown",
   "id": "5e701bf8-e8b6-44a3-ad25-3d79fcfaa830",
   "metadata": {},
   "source": [
    "## e"
   ]
  },
  {
   "cell_type": "code",
   "execution_count": 18,
   "id": "8d534c14-3cdb-4f6f-b6cd-b857c11ac0e8",
   "metadata": {},
   "outputs": [
    {
     "name": "stdout",
     "output_type": "stream",
     "text": [
      "Actual Sentence:\n",
      "Other dark colors like black and gray symbolize dullness, gloom, and the Puritan way of living. What to know before yo go\n",
      "\n",
      "Results from tokenize_text():\n",
      "['other', 'dark', 'colors', 'like', 'black', 'and', 'gray', 'symbolize', 'dullness', ',', 'gloom', ',', 'and', 'the', 'puritan', 'way', 'of', 'living', '.', 'what', 'to', 'know', 'before', 'yo', 'go']\n",
      "Results from word_tokenize():\n",
      "['Other', 'dark', 'colors', 'like', 'black', 'and', 'gray', 'symbolize', 'dullness', ',', 'gloom', ',', 'and', 'the', 'Puritan', 'way', 'of', 'living', '.', 'What', 'to', 'know', 'before', 'yo', 'go']\n",
      "\n",
      "Actual Sentence:\n",
      "a double and nine runs scored. The last time Jones played in University of Phoenix Stadium, he won Super Bowl XLIX and was\n",
      "\n",
      "Results from tokenize_text():\n",
      "['a', 'double', 'and', 'nine', 'runs', 'scored', '.', 'the', 'last', 'time', 'jones', 'played', 'in', 'university', 'of', 'phoenix', 'stadium', ',', 'he', 'won', 'super', 'bowl', 'xlix', 'and', 'was']\n",
      "Results from word_tokenize():\n",
      "['a', 'double', 'and', 'nine', 'runs', 'scored', '.', 'The', 'last', 'time', 'Jones', 'played', 'in', 'University', 'of', 'Phoenix', 'Stadium', ',', 'he', 'won', 'Super', 'Bowl', 'XLIX', 'and', 'was']\n",
      "\n",
      "Actual Sentence:\n",
      "drop seen in the 2010 Census. I urge more Parents show up at the School Board meetings to voice their disgust. She wants every\n",
      "\n",
      "Results from tokenize_text():\n",
      "['drop', 'seen', 'in', 'the', '2010', 'census', '.', 'i', 'urge', 'more', 'parents', 'show', 'up', 'at', 'the', 'school', 'board', 'meetings', 'to', 'voice', 'their', 'disgust', '.', 'she', 'wants', 'every']\n",
      "Results from word_tokenize():\n",
      "['drop', 'seen', 'in', 'the', '2010', 'Census', '.', 'I', 'urge', 'more', 'Parents', 'show', 'up', 'at', 'the', 'School', 'Board', 'meetings', 'to', 'voice', 'their', 'disgust', '.', 'She', 'wants', 'every']\n",
      "\n",
      "Actual Sentence:\n",
      "Citizens Telecom (Frontier) until his health forced him to retire in 1998. 3. We MUST Understand:No Vote, No Voice! “I completely\n",
      "\n",
      "Results from tokenize_text():\n",
      "['citizens', 'telecom', '(', 'frontier', ')', 'until', 'his', 'health', 'forced', 'him', 'to', 'retire', 'in', '1998', '.', '3', '.', 'we', 'must', 'understand', ':', 'no', 'vote', ',', 'no', 'voice', '!', '“', 'i', 'completely']\n",
      "Results from word_tokenize():\n",
      "['Citizens', 'Telecom', '(', 'Frontier', ')', 'until', 'his', 'health', 'forced', 'him', 'to', 'retire', 'in', '1998', '.', '3', '.', 'We', 'MUST', 'Understand', ':', 'No', 'Vote', ',', 'No', 'Voice', '!', '“', 'I', 'completely']\n",
      "\n",
      "Actual Sentence:\n",
      "thumb to rate 0 0 Please login to rate I don't support banning anything. Here’s a look at how the bill works, who it could\n",
      "\n",
      "Results from tokenize_text():\n",
      "['thumb', 'to', 'rate', '0', '0', 'please', 'login', 'to', 'rate', 'i', 'don', \"'\", 't', 'support', 'banning', 'anything', '.', 'here', '’', 's', 'a', 'look', 'at', 'how', 'the', 'bill', 'works', ',', 'who', 'it', 'could']\n",
      "Results from word_tokenize():\n",
      "['thumb', 'to', 'rate', '0', '0', 'Please', 'login', 'to', 'rate', 'I', 'do', \"n't\", 'support', 'banning', 'anything', '.', 'Here', '’', 's', 'a', 'look', 'at', 'how', 'the', 'bill', 'works', ',', 'who', 'it', 'could']\n",
      "\n",
      "Actual Sentence:\n",
      "walking a dog on a leash or riding a horse in the area. Auditing firm Deloitte is looking into the travel expenses of Conservative\n",
      "\n",
      "Results from tokenize_text():\n",
      "['walking', 'a', 'dog', 'on', 'a', 'leash', 'or', 'riding', 'a', 'horse', 'in', 'the', 'area', '.', 'auditing', 'firm', 'deloitte', 'is', 'looking', 'into', 'the', 'travel', 'expenses', 'of', 'conservative']\n",
      "Results from word_tokenize():\n",
      "['walking', 'a', 'dog', 'on', 'a', 'leash', 'or', 'riding', 'a', 'horse', 'in', 'the', 'area', '.', 'Auditing', 'firm', 'Deloitte', 'is', 'looking', 'into', 'the', 'travel', 'expenses', 'of', 'Conservative']\n",
      "\n",
      "Actual Sentence:\n",
      "from being attacked by a shark. The current cost of the temporary housing to the building operator cannot exceed $75 per day\n",
      "\n",
      "Results from tokenize_text():\n",
      "['from', 'being', 'attacked', 'by', 'a', 'shark', '.', 'the', 'current', 'cost', 'of', 'the', 'temporary', 'housing', 'to', 'the', 'building', 'operator', 'cannot', 'exceed', '$', '75', 'per', 'day']\n",
      "Results from word_tokenize():\n",
      "['from', 'being', 'attacked', 'by', 'a', 'shark', '.', 'The', 'current', 'cost', 'of', 'the', 'temporary', 'housing', 'to', 'the', 'building', 'operator', 'can', 'not', 'exceed', '$', '75', 'per', 'day']\n",
      "\n",
      "Actual Sentence:\n",
      "again, this time out of fear of lingering spirits. “We’re going to be hard-pressed to get any significant rainfall in here\n",
      "\n",
      "Results from tokenize_text():\n",
      "['again', ',', 'this', 'time', 'out', 'of', 'fear', 'of', 'lingering', 'spirits', '.', '“', 'we', '’', 're', 'going', 'to', 'be', 'hard-pressed', 'to', 'get', 'any', 'significant', 'rainfall', 'in', 'here']\n",
      "Results from word_tokenize():\n",
      "['again', ',', 'this', 'time', 'out', 'of', 'fear', 'of', 'lingering', 'spirits', '.', '“', 'We', '’', 're', 'going', 'to', 'be', 'hard-pressed', 'to', 'get', 'any', 'significant', 'rainfall', 'in', 'here']\n",
      "\n",
      "Actual Sentence:\n",
      "they were 10 years ago. Montrose 5-day weather forecast Published on Friday 4 November 2016 08:32 With hybrid and electric\n",
      "\n",
      "Results from tokenize_text():\n",
      "['they', 'were', '10', 'years', 'ago', '.', 'montrose', '5-day', 'weather', 'forecast', 'published', 'on', 'friday', '4', 'november', '2016', '08', ':', '32', 'with', 'hybrid', 'and', 'electric']\n",
      "Results from word_tokenize():\n",
      "['they', 'were', '10', 'years', 'ago', '.', 'Montrose', '5-day', 'weather', 'forecast', 'Published', 'on', 'Friday', '4', 'November', '2016', '08:32', 'With', 'hybrid', 'and', 'electric']\n",
      "\n",
      "Actual Sentence:\n",
      "and elegantly mounted, writes Rinki Roy Bhattacharya. Beyond a catchy hit, these acts delivered little beyond watered-down\n",
      "\n",
      "Results from tokenize_text():\n",
      "['and', 'elegantly', 'mounted', ',', 'writes', 'rinki', 'roy', 'bhattacharya', '.', 'beyond', 'a', 'catchy', 'hit', ',', 'these', 'acts', 'delivered', 'little', 'beyond', 'watered-down']\n",
      "Results from word_tokenize():\n",
      "['and', 'elegantly', 'mounted', ',', 'writes', 'Rinki', 'Roy', 'Bhattacharya', '.', 'Beyond', 'a', 'catchy', 'hit', ',', 'these', 'acts', 'delivered', 'little', 'beyond', 'watered-down']\n",
      "\n"
     ]
    }
   ],
   "source": [
    "from nltk.tokenize import word_tokenize, sent_tokenize\n",
    "\n",
    "# Compare nltk's word_tokenize() with tokenize_text() on ten random lines in tokens.txt. Use random_line_nos\n",
    "# from part d.\n",
    "i = 0\n",
    "with open(\"tokens.txt\") as file:\n",
    "    for line in file:\n",
    "        i += 1\n",
    "        if i in random_line_nos:\n",
    "            print(\"Actual Sentence:\")\n",
    "            print(line)\n",
    "            print(\"Results from tokenize_text():\")\n",
    "            print(tokenize_text(line))\n",
    "            print(\"Results from word_tokenize():\")\n",
    "            print(word_tokenize(line))\n",
    "            print(\"\")"
   ]
  },
  {
   "cell_type": "markdown",
   "id": "960f7afa-5dc8-4da3-888e-8e46cba57e3b",
   "metadata": {},
   "source": [
    "Looking at the random lines above, NLTK's word_tokenize() function keeps capitalization (e.g. first word in sentence), whereas my word tokenizer function converts everything to lowercase. Another big difference is that NLTK keeps some contractions together (e.g. \"n't\") in fifth sentence, whereas my function splits on the apostrophe and keeps the apostrophe separate. NLTK also splits \"cannot\" into \"can\" and \"not\", whereas my function keeps \"cannot\" as a single token (see sentence 7). NLTK also keeps times as a single token (e.g. \"8:32\"), whereas my function splits on \":\" (see sentence 9)."
   ]
  },
  {
   "cell_type": "code",
   "execution_count": 24,
   "id": "a812cdbd-00a1-4671-885d-f6f4f7d6c155",
   "metadata": {},
   "outputs": [
    {
     "name": "stdout",
     "output_type": "stream",
     "text": [
      "Actual Sentence:\n",
      "They're hoping this week's snowstorms don't mess up their Saturday wedding. The economic powerhouse is gearing up for nearly three-quarters of a million applicants this year. Tunisia, birthplace of the Arab Spring, has seen a surge in radical Islam since veteran president Zine El Abidine Ben Ali was ousted in the 2011 revolution.\n",
      "\n",
      "Results from detect_sentence_boundary():\n",
      "[\"They're hoping this week's snowstorms don't mess up their Saturday wedding\", '. The economic powerhouse is gearing up for nearly three-quarters of a million applicants this year', '. Tunisia, birthplace of the Arab Spring, has seen a surge in radical Islam since veteran president Zine El Abidine Ben Ali was ousted in the 2011 revolution', '.\\n']\n",
      "Results from sent_tokenize():\n",
      "[\"They're hoping this week's snowstorms don't mess up their Saturday wedding.\", 'The economic powerhouse is gearing up for nearly three-quarters of a million applicants this year.', 'Tunisia, birthplace of the Arab Spring, has seen a surge in radical Islam since veteran president Zine El Abidine Ben Ali was ousted in the 2011 revolution.']\n",
      "\n",
      "Actual Sentence:\n",
      "However, a Russian TV channel late on Saturday quoted the wife of the co-pilot as saying her husband had complained about the plane's condition.\n",
      "\n",
      "Results from detect_sentence_boundary():\n",
      "[\"However, a Russian TV channel late on Saturday quoted the wife of the co-pilot as saying her husband had complained about the plane's condition\", '.\\n']\n",
      "Results from sent_tokenize():\n",
      "[\"However, a Russian TV channel late on Saturday quoted the wife of the co-pilot as saying her husband had complained about the plane's condition.\"]\n",
      "\n",
      "Actual Sentence:\n",
      "Credit: Paul Michael Hughes/Guinness World Records Tallest married couple Sun Mingming, 33, and his wife Xu Yan, 29, of China have a combined height of 13 feet 10.72 inches. NADINE ANGERER, Germany: The goalkeeper says she’ll retire from the game later this year, but first she wants to lead her country to its third World Cup championship.\n",
      "\n",
      "Results from detect_sentence_boundary():\n",
      "['Credit: Paul Michael Hughes/Guinness World Records Tallest married couple Sun Mingming, 33, and his wife Xu Yan, 29, of China have a combined height of 13 feet 10.72 inches', '. NADINE ANGERER, Germany: The goalkeeper says she’ll retire from the game later this year, but first she wants to lead her country to its third World Cup championship', '.\\n']\n",
      "Results from sent_tokenize():\n",
      "['Credit: Paul Michael Hughes/Guinness World Records Tallest married couple Sun Mingming, 33, and his wife Xu Yan, 29, of China have a combined height of 13 feet 10.72 inches.', 'NADINE ANGERER, Germany: The goalkeeper says she’ll retire from the game later this year, but first she wants to lead her country to its third World Cup championship.']\n",
      "\n",
      "Actual Sentence:\n",
      "\"There is room in the primary for anyone who has enough resources,\" said Tom Rath, a longtime New Hampshire power broker and Romney ally. Eventually, though, the court did hear testimony relevant to the case.\n",
      "\n",
      "Results from detect_sentence_boundary():\n",
      "['\"There is room in the primary for anyone who has enough resources,\" said Tom Rath, a longtime New Hampshire power broker and Romney ally', '. Eventually, though, the court did hear testimony relevant to the case', '.\\n']\n",
      "Results from sent_tokenize():\n",
      "['\"There is room in the primary for anyone who has enough resources,\" said Tom Rath, a longtime New Hampshire power broker and Romney ally.', 'Eventually, though, the court did hear testimony relevant to the case.']\n",
      "\n",
      "Actual Sentence:\n",
      "They will enhance the lives of a few fortunate mothers, too.\" “I’m very fortunate in my life, and to be able to do this for this family that works so hard, it is an amazing feeling,” he added. And I want to believe it,\" she said from Seattle.\n",
      "\n",
      "Results from detect_sentence_boundary():\n",
      "['They will enhance the lives of a few fortunate mothers, too', '.\" “I’m very fortunate in my life, and to be able to do this for this family that works so hard, it is an amazing feeling,” he added', '. And I want to believe it,\" she said from Seattle', '.\\n']\n",
      "Results from sent_tokenize():\n",
      "['They will enhance the lives of a few fortunate mothers, too.\"', '“I’m very fortunate in my life, and to be able to do this for this family that works so hard, it is an amazing feeling,” he added.', 'And I want to believe it,\" she said from Seattle.']\n",
      "\n",
      "Actual Sentence:\n",
      "In addition, with starting salaries above the national median, the teaching profession attracts, develops, and retains some of the best graduates.\n",
      "\n",
      "Results from detect_sentence_boundary():\n",
      "['In addition, with starting salaries above the national median, the teaching profession attracts, develops, and retains some of the best graduates', '.\\n']\n",
      "Results from sent_tokenize():\n",
      "['In addition, with starting salaries above the national median, the teaching profession attracts, develops, and retains some of the best graduates.']\n",
      "\n",
      "Actual Sentence:\n",
      "Soriot did not mention Wilmington at all during the news conference in Cambridge. For his encore, “The Rosie Effect,” Simsion could easily have lapsed into movie-sequel mode and dished up flavorless seconds.\n",
      "\n",
      "Results from detect_sentence_boundary():\n",
      "['Soriot did not mention Wilmington at all during the news conference in Cambridge', '. For his encore, “The Rosie Effect,” Simsion could easily have lapsed into movie-sequel mode and dished up flavorless seconds', '.\\n']\n",
      "Results from sent_tokenize():\n",
      "['Soriot did not mention Wilmington at all during the news conference in Cambridge.', 'For his encore, “The Rosie Effect,” Simsion could easily have lapsed into movie-sequel mode and dished up flavorless seconds.']\n",
      "\n",
      "Actual Sentence:\n",
      "Fourth time a charm in EU Google antitrust row? 02.04.2015 Despite three failed attempts against Google, EU regulators aren't giving up. Ephron places Netanyahu at a rally, about a month before Rabin’s murder, where crowds spent two hours chanting, “Death to Rabin.”\n",
      "\n",
      "Results from detect_sentence_boundary():\n",
      "['Fourth time a charm in EU Google antitrust row', \"? 02.04.2015 Despite three failed attempts against Google, EU regulators aren't giving up\", '. Ephron places Netanyahu at a rally, about a month before Rabin’s murder, where crowds spent two hours chanting, “Death to Rabin', '.”\\n']\n",
      "Results from sent_tokenize():\n",
      "['Fourth time a charm in EU Google antitrust row?', \"02.04.2015 Despite three failed attempts against Google, EU regulators aren't giving up.\", 'Ephron places Netanyahu at a rally, about a month before Rabin’s murder, where crowds spent two hours chanting, “Death to Rabin.”']\n",
      "\n",
      "Actual Sentence:\n",
      "Russian Cargo Spaceship Spins Out of Control After Launch Russia's space agency is scrambling to regain control of a robotic Progress cargo ship that appears to have suffered a serious malfunction shortly after launching into orbit on Tuesday.\n",
      "\n",
      "Results from detect_sentence_boundary():\n",
      "[\"Russian Cargo Spaceship Spins Out of Control After Launch Russia's space agency is scrambling to regain control of a robotic Progress cargo ship that appears to have suffered a serious malfunction shortly after launching into orbit on Tuesday\", '.\\n']\n",
      "Results from sent_tokenize():\n",
      "[\"Russian Cargo Spaceship Spins Out of Control After Launch Russia's space agency is scrambling to regain control of a robotic Progress cargo ship that appears to have suffered a serious malfunction shortly after launching into orbit on Tuesday.\"]\n",
      "\n",
      "Actual Sentence:\n",
      "Which we're going to assume means the average Engadget editor will get about 12 hours from it. An owl flew into a patrol car and attacked a Louisiana officer The encounter caused the officer to lose control of his vehicle (CNN)One unsuspecting Louisiana police officer was in for a hoot on Christmas Eve.\n",
      "\n",
      "Results from detect_sentence_boundary():\n",
      "[\"Which we're going to assume means the average Engadget editor will get about 12 hours from it\", '. An owl flew into a patrol car and attacked a Louisiana officer The encounter caused the officer to lose control of his vehicle (CNN)One unsuspecting Louisiana police officer was in for a hoot on Christmas Eve', '.\\n']\n",
      "Results from sent_tokenize():\n",
      "[\"Which we're going to assume means the average Engadget editor will get about 12 hours from it.\", 'An owl flew into a patrol car and attacked a Louisiana officer The encounter caused the officer to lose control of his vehicle (CNN)One unsuspecting Louisiana police officer was in for a hoot on Christmas Eve.']\n",
      "\n"
     ]
    }
   ],
   "source": [
    "# I modify my detect_sentence_boundary() function to produce a list of sentences so it's easier to compare with NLTK's \n",
    "# sent_tokenize() function.\n",
    "def detect_sentence_boundary_mod(input):\n",
    "    \"\"\"        \n",
    "    Parameters\n",
    "    ----------\n",
    "    input : str\n",
    "        The input text that gets checked.\n",
    "    \n",
    "    Returns\n",
    "    -------\n",
    "    A string containing a few numbers (enclosed in angle brackets):\n",
    "        The first number is the number of sentences that were found.\n",
    "        The next numbers are character offsets where punctuation characters are found.\n",
    "        The last number is the offset where the final character is found.\n",
    "    \"\"\"\n",
    "\n",
    "    # Replace non-punctuation periods with whitespace so they aren't caught below.\n",
    "    # Replace . with whitespace in the following situations:\n",
    "    #     (1) The period is between two numbers.\n",
    "    #     (2) The period is part of an initialism (between two uppercase letters).\n",
    "    #     (3) The period is part of a title (e.g. Mr.). \n",
    "    input_periodrepl = re.sub(\"([0-9])(\\.)([0-9])\", r\"\\1 \\3\", input)\n",
    "    input_periodrepl = re.sub(\"([A-Z])(\\.)([A-Z])\", r\"\\1 \\3\", input_periodrepl)\n",
    "    input_periodrepl = re.sub(\"(Mr|Mrs|Ms|Dr)(\\.)\", r\"\\1 \", input_periodrepl)\n",
    "    \n",
    "    # Replace ! after Yahoo with whitespace.\n",
    "    input_exclrepl = re.sub(\"Yahoo!\", \"Yahoo \", input_periodrepl)\n",
    "    \n",
    "    # Find the offsets of all punctuation characters.\n",
    "    punc_matches = re.finditer(\"[\\.?!]\", input_exclrepl)\n",
    "    punc_offsets = [punc_matches.start() for punc_matches in punc_matches]\n",
    "    n_sentences = len(punc_offsets)\n",
    "\n",
    "    # Split on punctuation characters and return a list of sentences.\n",
    "    sentences = []\n",
    "    prev_offset = 0\n",
    "    \n",
    "    for offset in punc_offsets:\n",
    "        sentences.append(input[prev_offset:offset])\n",
    "        prev_offset = offset\n",
    "    \n",
    "    # Append the final sentence.\n",
    "    sentences.append(input[prev_offset:])\n",
    "    \n",
    "    return sentences\n",
    "    \n",
    "# Compare nltk's sent_tokenize() with detect_sentence_boundary() on ten random lines in sentences.txt. Use random_line_nos\n",
    "# from part d.\n",
    "i = 0\n",
    "with open(\"sentences.txt\") as file:\n",
    "    for line in file:\n",
    "        i += 1\n",
    "        if i in random_line_nos:\n",
    "            print(\"Actual Sentence:\")\n",
    "            print(line)\n",
    "            print(\"Results from detect_sentence_boundary():\")\n",
    "            print(detect_sentence_boundary_mod(line))\n",
    "            print(\"Results from sent_tokenize():\")\n",
    "            print(sent_tokenize(line))\n",
    "            print(\"\")"
   ]
  },
  {
   "cell_type": "markdown",
   "id": "70114a7a-bfb7-4bb1-8e96-c77c78e9f7dd",
   "metadata": {},
   "source": [
    "I use the same ten random line numbers to pull ten random sentences from sentences.txt. The results are faily similar, though my function splits on the final period. I noticed that NLTK's sent_tokenize() associates periods with the string preceding it, whereas my sentence tokenizer associated periods with the string after it. NLTK's approach seems preferable."
   ]
  },
  {
   "cell_type": "code",
   "execution_count": null,
   "id": "16edd7da-3b99-4227-a425-20b5eb8e584c",
   "metadata": {},
   "outputs": [],
   "source": []
  }
 ],
 "metadata": {
  "kernelspec": {
   "display_name": "Python 3 (ipykernel)",
   "language": "python",
   "name": "python3"
  },
  "language_info": {
   "codemirror_mode": {
    "name": "ipython",
    "version": 3
   },
   "file_extension": ".py",
   "mimetype": "text/x-python",
   "name": "python",
   "nbconvert_exporter": "python",
   "pygments_lexer": "ipython3",
   "version": "3.10.12"
  }
 },
 "nbformat": 4,
 "nbformat_minor": 5
}
