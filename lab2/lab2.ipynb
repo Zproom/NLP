{
 "cells": [
  {
   "cell_type": "markdown",
   "id": "7ecb603a-6a07-4f29-84b5-2a94a7655b44",
   "metadata": {},
   "source": [
    "Zachary Proom\n",
    "\n",
    "EN.605.646.81: Natural Language Processing\n",
    "\n",
    "# Lab #2"
   ]
  },
  {
   "cell_type": "markdown",
   "id": "ef1a8712-085d-4e85-8d9b-3b2ae4f00bb5",
   "metadata": {},
   "source": [
    "## a"
   ]
  },
  {
   "cell_type": "code",
   "execution_count": 1,
   "id": "86271b6b-7e04-4b4d-b9d6-ad4f20b2995c",
   "metadata": {},
   "outputs": [],
   "source": [
    "from charlm import *"
   ]
  },
  {
   "cell_type": "code",
   "execution_count": 2,
   "id": "b43087e8-25f1-47ed-b885-3948bb01ac44",
   "metadata": {},
   "outputs": [],
   "source": [
    "mylm = train_char_lm('subtitles.txt', 4)"
   ]
  },
  {
   "cell_type": "markdown",
   "id": "f4403957-8f55-470b-9052-9428bad74624",
   "metadata": {},
   "source": [
    "Below are the continuations for 'atio':"
   ]
  },
  {
   "cell_type": "markdown",
   "id": "2ae8d4f9-9390-42c8-91a3-976840abbf71",
   "metadata": {},
   "source": [
    "print_probs(mylm, 'atio')"
   ]
  },
  {
   "cell_type": "markdown",
   "id": "5e18f4a3-e7e5-45b3-9e2a-6ae3fa1daa6f",
   "metadata": {},
   "source": [
    "Next, here are the continuations for 'nivi':"
   ]
  },
  {
   "cell_type": "code",
   "execution_count": 3,
   "id": "85d7e52e-9f79-4af2-aa4a-59e5ab84d8a7",
   "metadata": {},
   "outputs": [
    {
     "name": "stdout",
     "output_type": "stream",
     "text": [
      "[('n', 0.8), ('e', 0.1), ('s', 0.1)]\n"
     ]
    }
   ],
   "source": [
    "print_probs(mylm, 'nivi')"
   ]
  },
  {
   "cell_type": "markdown",
   "id": "7e5777eb-7874-452f-91cd-1f2dc1cf4ad4",
   "metadata": {},
   "source": [
    "Finally, here are the continuations for 'supe':"
   ]
  },
  {
   "cell_type": "code",
   "execution_count": 4,
   "id": "519f3941-b110-4a4a-b57f-c87483c77243",
   "metadata": {},
   "outputs": [
    {
     "name": "stdout",
     "output_type": "stream",
     "text": [
      "[('r', 0.9992144540455616), ('s', 0.0007855459544383347)]\n"
     ]
    }
   ],
   "source": [
    "print_probs(mylm, 'supe')"
   ]
  },
  {
   "cell_type": "markdown",
   "id": "01b170a4-4a87-4ad6-a1cf-00516921236b",
   "metadata": {},
   "source": [
    "Next, I generate some random strings (up to 80 characters) from the model, using generate_text():"
   ]
  },
  {
   "cell_type": "code",
   "execution_count": 5,
   "id": "887123cc-7133-41f0-bf70-4f93e30999d1",
   "metadata": {},
   "outputs": [
    {
     "data": {
      "text/plain": [
       "[\"You're company infect descene.\\nWhat?\\nMormous.\\nPay mom.\\nSince a this, I won.\\nI'm \",\n",
       " \"Nothing you recept well you doing for Nicole.\\nNo, it's to cool.\\n- Shave the cant\",\n",
       " 'Are you.\\nOverpopulational Cell you have an in Russion even anyone go intribute d',\n",
       " 'About it.\\nCopy that was Dr. X.\\nLesbian.\\n- l make land. Fabrief.\\nl does no long w',\n",
       " 'Where we door.\\n-You... at 4:15 PM, MMMMM. HEAR TO THE BEGINNING WHAT HAVE A LOT ',\n",
       " \"Cheer to understantibility family.\\n'And girls.\\nLucius if you the proposed to an \",\n",
       " \"Get the worry.\\nGo back to do.\\nUnderstand-- - # Be can didn't talk togethere hund\",\n",
       " \"Do you can was we first statement.\\nAt lease!\\nOnly only man, I'm almost of oil.\\nA\",\n",
       " \"Get in the people my. Yeah, I'll fight, Agnew, you.\\nThe odd the drank.\\nEleveryth\",\n",
       " \"You the freedom. - Well, that.\\nIt's missie: Hero.\\nYou're have and take do. ~ Oh?\",\n",
       " \"You!\\nThey're resence in he true.\\nThat's times by. Thursday who did you teless yo\",\n",
       " 'Ah, my cause!\\nMay 1.0 LOL.\\nNow I know.\\nWHAT?\\nI know who do repeat!\\nHer Mothere.\\n',\n",
       " 'Joseph had a bit ghost breats. here?\\nWhat?\\nMomowaka too.\\nSorry to blade a stoppe',\n",
       " \"You this won't know.\\n- What?\\nYou see time soldiers all the looking in him.\\nOkay,\",\n",
       " \"Everybody sistandau defeature.\\nI've being, almost had backpackage.\\nThis the turn\",\n",
       " \"I willing with you've been work?\\nRight-blad... ok, I am...\\nThe greaten, broke Da\",\n",
       " 'One of you had to the been real is so heard to eart!\\nDo your rentired.\\nAh! No! G',\n",
       " '- We left to fight. Clyde and I wenty is in the fools!\\nDean totalking passportan',\n",
       " \"Stop!\\nIgor, broke a human invited syster Brand.\\nYou're going? Have to resume it \",\n",
       " 'Good anythink we´re ship with you beautiful. - You ruin it?\\nJust give means in.\\n']"
      ]
     },
     "execution_count": 5,
     "metadata": {},
     "output_type": "execute_result"
    }
   ],
   "source": [
    "import random\n",
    "random.seed(1) # Set a random seed so the results are reproducible.\n",
    "\n",
    "num_sentences = 20\n",
    "sentence_list = [] # Store sentences in this list.\n",
    "for i in range(0, num_sentences): # Generate 10 random sentences.\n",
    "     sentence_list.append(generate_text(mylm, 4, 80))\n",
    "sentence_list"
   ]
  },
  {
   "cell_type": "markdown",
   "id": "aae9f393-033f-47b0-ada9-c1067513913d",
   "metadata": {},
   "source": [
    "Below are three of my favorite sentences produced by the model:"
   ]
  },
  {
   "cell_type": "code",
   "execution_count": 6,
   "id": "04a98dbf-0377-4330-903d-36a219f32807",
   "metadata": {},
   "outputs": [
    {
     "name": "stdout",
     "output_type": "stream",
     "text": [
      "First sentence:\n",
      "Where we door.\n",
      "-You... at 4:15 PM, MMMMM. HEAR TO THE BEGINNING WHAT HAVE A LOT \n",
      "\n",
      "Second sentence:\n",
      "Ah, my cause!\n",
      "May 1.0 LOL.\n",
      "Now I know.\n",
      "WHAT?\n",
      "I know who do repeat!\n",
      "Her Mothere.\n",
      "\n",
      "\n",
      "Third sentence:\n",
      "Stop!\n",
      "Igor, broke a human invited syster Brand.\n",
      "You're going? Have to resume it \n"
     ]
    }
   ],
   "source": [
    "print(\"First sentence:\")\n",
    "print(sentence_list[4])\n",
    "print(\"\")\n",
    "print(\"Second sentence:\")\n",
    "print(sentence_list[11])\n",
    "print(\"\")\n",
    "print(\"Third sentence:\")\n",
    "print(sentence_list[18])"
   ]
  },
  {
   "cell_type": "markdown",
   "id": "f81bb6ff-6a2c-49ca-a096-6e4638b6a43f",
   "metadata": {},
   "source": [
    "## b"
   ]
  },
  {
   "cell_type": "markdown",
   "id": "0c8d0b1f-dac3-4fbe-b13b-e53b191acc69",
   "metadata": {},
   "source": [
    "Below I demonstrate that my perplexity() function works on the test sentences provided in the prompt:"
   ]
  },
  {
   "cell_type": "code",
   "execution_count": 8,
   "id": "1e1a36fb-ffea-4021-90f6-aba3874a1b99",
   "metadata": {},
   "outputs": [
    {
     "data": {
      "text/plain": [
       "3.9091903673746224"
      ]
     },
     "execution_count": 8,
     "metadata": {},
     "output_type": "execute_result"
    }
   ],
   "source": [
    "perplexity('The boy loves his mother', mylm, 4)"
   ]
  },
  {
   "cell_type": "code",
   "execution_count": 9,
   "id": "0febc1c3-86f9-4d31-a07f-7a8b28da2fa8",
   "metadata": {},
   "outputs": [
    {
     "data": {
      "text/plain": [
       "4.606972940490915"
      ]
     },
     "execution_count": 9,
     "metadata": {},
     "output_type": "execute_result"
    }
   ],
   "source": [
    "perplexity('The student loves homework', mylm, 4)"
   ]
  },
  {
   "cell_type": "code",
   "execution_count": 10,
   "id": "d434f5bd-b5ad-4dc6-9d6c-2eb39244da9e",
   "metadata": {},
   "outputs": [
    {
     "data": {
      "text/plain": [
       "inf"
      ]
     },
     "execution_count": 10,
     "metadata": {},
     "output_type": "execute_result"
    }
   ],
   "source": [
    "perplexity('The yob loves homework', mylm, 4)"
   ]
  },
  {
   "cell_type": "code",
   "execution_count": 11,
   "id": "cc389e32-7cb4-455d-a77b-5192712817dc",
   "metadata": {},
   "outputs": [
    {
     "data": {
      "text/plain": [
       "3.711236000904451"
      ]
     },
     "execution_count": 11,
     "metadata": {},
     "output_type": "execute_result"
    }
   ],
   "source": [
    "perplexity('It is raining in London', mylm, 4)"
   ]
  },
  {
   "cell_type": "code",
   "execution_count": 12,
   "id": "9172783d-5141-4672-b2a1-646469bd0619",
   "metadata": {},
   "outputs": [
    {
     "data": {
      "text/plain": [
       "inf"
      ]
     },
     "execution_count": 12,
     "metadata": {},
     "output_type": "execute_result"
    }
   ],
   "source": [
    "perplexity('asdfjkl; qwerty', mylm, 4)"
   ]
  },
  {
   "cell_type": "code",
   "execution_count": null,
   "id": "71e4d9ed-8103-46c4-af9a-6d027450c159",
   "metadata": {},
   "outputs": [],
   "source": []
  }
 ],
 "metadata": {
  "kernelspec": {
   "display_name": "Python 3 (ipykernel)",
   "language": "python",
   "name": "python3"
  },
  "language_info": {
   "codemirror_mode": {
    "name": "ipython",
    "version": 3
   },
   "file_extension": ".py",
   "mimetype": "text/x-python",
   "name": "python",
   "nbconvert_exporter": "python",
   "pygments_lexer": "ipython3",
   "version": "3.10.12"
  }
 },
 "nbformat": 4,
 "nbformat_minor": 5
}
